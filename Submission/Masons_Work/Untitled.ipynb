{
 "cells": [
  {
   "cell_type": "code",
   "execution_count": 1,
   "id": "e742f9d5",
   "metadata": {},
   "outputs": [],
   "source": [
    "import pandas as pd\n",
    "import numpy as np\n",
    "import sqlite3\n",
    "import datetime\n",
    "import sqlalchemy\n",
    "from sqlalchemy.ext.automap import automap_base\n",
    "from sqlalchemy.orm import Session\n",
    "from sqlalchemy import create_engine, func, inspect, text"
   ]
  },
  {
   "cell_type": "code",
   "execution_count": 2,
   "id": "ec1234e4",
   "metadata": {},
   "outputs": [],
   "source": [
    "storms_csv = \"Resources/storms_final.csv\"\n",
    "storms_sqlite = \"storms_final.sqlite\"\n",
    "storms_df = pd.read_csv(storms_csv)\n",
    "conn = sqlite3.connect(storms_sqlite)\n",
    "storms_df.to_sql(\"storm_data\", conn, if_exists='replace', index=False)\n",
    "conn.close()"
   ]
  },
  {
   "cell_type": "code",
   "execution_count": 3,
   "id": "5a5d77ec",
   "metadata": {},
   "outputs": [],
   "source": [
    "sqlite_file = \"storms_final.sqlite\"\n",
    "conn = sqlite3.connect(sqlite_file)\n",
    "df = pd.read_sql_query(\"SELECT * FROM storm_data\", conn)"
   ]
  },
  {
   "cell_type": "code",
   "execution_count": 4,
   "id": "76e976b0",
   "metadata": {},
   "outputs": [
    {
     "name": "stdout",
     "output_type": "stream",
     "text": [
      "       name combined_date  year  month  day  hour   lat  long     status  \\\n",
      "0  AL011852    1852-08-26  1852      8   26     6  30.2 -88.6  hurricane   \n",
      "1  AL031853    1853-09-03  1853      9    3    12  19.7 -56.2  hurricane   \n",
      "2  AL031854    1854-09-07  1854      9    7    12  28.0 -78.6  hurricane   \n",
      "3  AL031854    1854-09-08  1854      9    8    18  31.6 -81.1  hurricane   \n",
      "4  AL031854    1854-09-08  1854      9    8    20  31.7 -81.1  hurricane   \n",
      "\n",
      "   category  wind  pressure  \n",
      "0         3   100       961  \n",
      "1         4   130       924  \n",
      "2         3   110       938  \n",
      "3         3   100       950  \n",
      "4         3   100       950  \n"
     ]
    }
   ],
   "source": [
    "print(df.head())"
   ]
  },
  {
   "cell_type": "code",
   "execution_count": 5,
   "id": "eeeb71f4",
   "metadata": {},
   "outputs": [],
   "source": [
    "# Create the engine\n",
    "engine = create_engine('sqlite:///storms_final.sqlite')\n"
   ]
  },
  {
   "cell_type": "code",
   "execution_count": 8,
   "id": "1a806d85",
   "metadata": {},
   "outputs": [
    {
     "name": "stdout",
     "output_type": "stream",
     "text": [
      "storm_data\n",
      "-----------\n",
      "name TEXT\n",
      "combined_date TEXT\n",
      "year INTEGER\n",
      "month INTEGER\n",
      "day INTEGER\n",
      "hour INTEGER\n",
      "lat REAL\n",
      "long REAL\n",
      "status TEXT\n",
      "category INTEGER\n",
      "wind INTEGER\n",
      "pressure INTEGER\n",
      "\n"
     ]
    }
   ],
   "source": [
    "# INSPECT\n",
    "\n",
    "# Create the inspector and connect it to the engine\n",
    "inspector_gadget = inspect(engine)\n",
    "\n",
    "# Collect the names of tables within the database\n",
    "tables = inspector_gadget.get_table_names()\n",
    "\n",
    "# print metadata for each table\n",
    "for table in tables:\n",
    "    print(table)\n",
    "    print(\"-----------\")\n",
    "    \n",
    "    # get columns\n",
    "    columns = inspector_gadget.get_columns(table)\n",
    "    for column in columns:\n",
    "        print(column[\"name\"], column[\"type\"])\n",
    "\n",
    "    print()"
   ]
  },
  {
   "cell_type": "code",
   "execution_count": 9,
   "id": "ca67a543",
   "metadata": {},
   "outputs": [
    {
     "name": "stdout",
     "output_type": "stream",
     "text": [
      "Tables: ['storm_data']\n"
     ]
    }
   ],
   "source": [
    "# Use the connection to execute the SQL query\n",
    "with engine.connect() as connection:\n",
    "    # Wrap the SQL query in text()\n",
    "    query = text(\"SELECT name FROM sqlite_master WHERE type='table';\")\n",
    "    result = connection.execute(query)\n",
    "    \n",
    "    # Fetch and print the result\n",
    "    tables = result.fetchall()\n",
    "    print(\"Tables:\", [row[0] for row in tables])"
   ]
  },
  {
   "cell_type": "code",
   "execution_count": 10,
   "id": "75d4fd9f",
   "metadata": {},
   "outputs": [
    {
     "name": "stdout",
     "output_type": "stream",
     "text": [
      "('AL011852', '1852-08-26', 1852, 8, 26, 6, 30.2, -88.6, 'hurricane', 3, 100, 961)\n",
      "('AL031853', '1853-09-03', 1853, 9, 3, 12, 19.7, -56.2, 'hurricane', 4, 130, 924)\n",
      "('AL031854', '1854-09-07', 1854, 9, 7, 12, 28.0, -78.6, 'hurricane', 3, 110, 938)\n",
      "('AL031854', '1854-09-08', 1854, 9, 8, 18, 31.6, -81.1, 'hurricane', 3, 100, 950)\n",
      "('AL031854', '1854-09-08', 1854, 9, 8, 20, 31.7, -81.1, 'hurricane', 3, 100, 950)\n",
      "('AL041855', '1855-08-27', 1855, 8, 27, 0, 18.4, -69.5, 'tropical storm', 0, 50, 997)\n",
      "('AL011856', '1856-08-10', 1856, 8, 10, 18, 29.2, -91.1, 'hurricane', 4, 130, 934)\n",
      "('AL051856', '1856-08-28', 1856, 8, 28, 6, 23.0, -82.9, 'hurricane', 2, 90, 969)\n",
      "('AL021857', '1857-09-12', 1857, 9, 12, 18, 33.3, -78.3, 'hurricane', 2, 90, 961)\n",
      "('AL031858', '1858-09-16', 1858, 9, 16, 18, 41.4, -72.0, 'hurricane', 1, 70, 979)\n"
     ]
    }
   ],
   "source": [
    "with engine.connect() as connection:\n",
    "    query = text(\"SELECT * FROM storm_data LIMIT 10;\")\n",
    "    result = connection.execute(query)\n",
    "    \n",
    "    rows = result.fetchall()\n",
    "    for row in rows:\n",
    "        print(row)"
   ]
  },
  {
   "cell_type": "code",
   "execution_count": 11,
   "id": "6fce38df",
   "metadata": {},
   "outputs": [
    {
     "name": "stderr",
     "output_type": "stream",
     "text": [
      "C:\\Users\\eeliz\\AppData\\Local\\Temp\\ipykernel_26716\\2880897608.py:5: SADeprecationWarning: The AutomapBase.prepare.reflect parameter is deprecated and will be removed in a future release.  Reflection is enabled when AutomapBase.prepare.autoload_with is passed.\n",
      "  Base.prepare(engine, reflect=True)\n"
     ]
    }
   ],
   "source": [
    "# Declare a Base using `automap_base()`\n",
    "Base = automap_base()\n",
    "\n",
    "# Use the Base class to reflect the database tables\n",
    "Base.prepare(engine, reflect=True)\n"
   ]
  },
  {
   "cell_type": "code",
   "execution_count": 12,
   "id": "2688dd4a",
   "metadata": {},
   "outputs": [
    {
     "name": "stdout",
     "output_type": "stream",
     "text": [
      "[]\n"
     ]
    }
   ],
   "source": [
    "# Print all of the classes mapped to the Base\n",
    "print(list(Base.classes))"
   ]
  }
 ],
 "metadata": {
  "kernelspec": {
   "display_name": "pd311",
   "language": "python",
   "name": "pd311"
  },
  "language_info": {
   "codemirror_mode": {
    "name": "ipython",
    "version": 3
   },
   "file_extension": ".py",
   "mimetype": "text/x-python",
   "name": "python",
   "nbconvert_exporter": "python",
   "pygments_lexer": "ipython3",
   "version": "3.11.9"
  }
 },
 "nbformat": 4,
 "nbformat_minor": 5
}
